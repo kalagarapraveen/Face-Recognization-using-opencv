{
 "cells": [
  {
   "cell_type": "code",
   "execution_count": 2,
   "metadata": {},
   "outputs": [],
   "source": [
    "import cv2\n",
    "import dlib\n",
    "import numpy as np"
   ]
  },
  {
   "cell_type": "code",
   "execution_count": 23,
   "metadata": {},
   "outputs": [],
   "source": [
    "face=cv2.CascadeClassifier(\"C:\\opencv-master\\data\\haarcascades\\haarcascade_frontalface_default.xml\")\n",
    "eyes=cv2.CascadeClassifier(\"C:\\opencv-master\\data\\haarcascades\\haarcascade_eye.xml\")\n",
    "mouth=cv2.CascadeClassifier(\"C:\\opencv-master\\data\\haarcascades\\haarcascade_smile.xml\")\n",
    "img=cv2.imread(\"musk.jpg\")\n",
    "img=cv2.resize(img, None, fx=0.5, fy=0.5)\n",
    "gray=cv2.cvtColor(img,cv2.COLOR_BGR2GRAY)\n",
    "fa=face.detectMultiScale(gray, scaleFactor=1.05, minNeighbors=10)\n",
    "for (x,y,w,h) in fa:\n",
    "    img=cv2.rectangle(img, (x, y), (x+w, y+h), (0,255,0),2)\n",
    "    \n",
    "fa=eyes.detectMultiScale(gray, scaleFactor=1.05, minNeighbors=150)\n",
    "for (x,y,w,h) in fa:\n",
    "    img=cv2.rectangle(img, (x, y), (x+w, y+h), (0,255,0),2)\n",
    "    \n",
    "fa=mouth.detectMultiScale(gray, scaleFactor=1.05, minNeighbors=250)\n",
    "for (x,y,w,h) in fa:\n",
    "    img=cv2.rectangle(img, (x, y), (x+w, y+h), (0,255,0),2)\n",
    "cv2.imshow(\"Elon Musk\",img)\n",
    "cv2.waitKey(0)\n",
    "cv2.destroyAllWindows()"
   ]
  },
  {
   "cell_type": "code",
   "execution_count": null,
   "metadata": {},
   "outputs": [],
   "source": []
  }
 ],
 "metadata": {
  "kernelspec": {
   "display_name": "Python 3",
   "language": "python",
   "name": "python3"
  },
  "language_info": {
   "codemirror_mode": {
    "name": "ipython",
    "version": 3
   },
   "file_extension": ".py",
   "mimetype": "text/x-python",
   "name": "python",
   "nbconvert_exporter": "python",
   "pygments_lexer": "ipython3",
   "version": "3.6.10"
  }
 },
 "nbformat": 4,
 "nbformat_minor": 2
}
